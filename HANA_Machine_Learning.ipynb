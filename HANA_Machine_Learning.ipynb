{
  "nbformat": 4,
  "nbformat_minor": 0,
  "metadata": {
    "colab": {
      "provenance": [],
      "authorship_tag": "ABX9TyOHutCe8w6+42ml+sPJC2FK",
      "include_colab_link": true
    },
    "kernelspec": {
      "name": "python3",
      "display_name": "Python 3"
    },
    "language_info": {
      "name": "python"
    }
  },
  "cells": [
    {
      "cell_type": "markdown",
      "metadata": {
        "id": "view-in-github",
        "colab_type": "text"
      },
      "source": [
        "<a href=\"https://colab.research.google.com/github/unnatihasija1/HANA-Cloud-ML/blob/main/HANA_Machine_Learning.ipynb\" target=\"_parent\"><img src=\"https://colab.research.google.com/assets/colab-badge.svg\" alt=\"Open In Colab\"/></a>"
      ]
    },
    {
      "cell_type": "code",
      "execution_count": null,
      "metadata": {
        "id": "xm1il8GOQc_c"
      },
      "outputs": [],
      "source": [
        "!pip install hana_ml\n",
        "\n",
        "import hana_ml\n",
        "import pandas as pd\n",
        "df_data = pd.read_csv('bank-full.csv', sep = ';')\n",
        "df_data.head(5)\n",
        "df_data.columns = map(str.upper, df_data.columns)"
      ]
    },
    {
      "cell_type": "code",
      "source": [
        "df_data = df_data.drop(['DURATION'],\n",
        "                       axis = 1)\n",
        "df_data = df_data.rename(index = str, columns = {'Y': 'PURCHASE'})\n",
        "df_data.insert(0, 'CUSTOMER_ID', df_data.reset_index().index)\n",
        "df_data.head(5)"
      ],
      "metadata": {
        "id": "WjipLdejQqMi"
      },
      "execution_count": null,
      "outputs": []
    },
    {
      "cell_type": "code",
      "source": [
        "import hana_ml.dataframe as dataframe\n",
        "\n",
        "# Instantiate connection object\n",
        "conn = dataframe.ConnectionContext(address = '<hostname>'\n",
        "                                   port = 443, \n",
        "                                   user = 'UNNATI', \n",
        "                                   password = '<userpassword>', \n",
        "                                   encrypt = 'true',\n",
        "                                   sslValidateCertificate = 'false' \n",
        "                                  )\n",
        "\n",
        "# Send basic SELECT statement and display the result\n",
        "sql = 'SELECT 12345 FROM DUMMY'\n",
        "df_remote = conn.sql(sql)\n",
        "print(df_remote.collect())"
      ],
      "metadata": {
        "id": "k-iayo1fQvXV"
      },
      "execution_count": null,
      "outputs": []
    },
    {
      "cell_type": "code",
      "source": [
        "C:\\Program Files\\SAP\\hdbclient>hdbuserstore -i SET MYHANACLOUD \"hostname:portnumber\"\n",
        "conn = dataframe.ConnectionContext(userkey = '<keyname>',\n",
        "                                   encrypt = 'true')"
      ],
      "metadata": {
        "id": "K7DMbPaEQyrY"
      },
      "execution_count": null,
      "outputs": []
    },
    {
      "cell_type": "code",
      "source": [
        "df_remote = dataframe.create_dataframe_from_pandas(connection_context = conn, \n",
        "                                                   pandas_df = df_data, \n",
        "                                                   table_name = 'BANKMARKETING',\n",
        "                                                   force = True,\n",
        "                                                   replace = False)"
      ],
      "metadata": {
        "id": "1bdOA75kQ6SO"
      },
      "execution_count": null,
      "outputs": []
    },
    {
      "cell_type": "code",
      "source": [
        "df_topredict = pd.DataFrame(data = None, \n",
        "                            columns = df_data.columns.drop('PURCHASE'))\n",
        "for xx in df_topredict.columns:\n",
        "    df_topredict[xx] = df_topredict[xx].astype(df_data[xx].dtypes.name)"
      ],
      "metadata": {
        "id": "_wrIq3QvQ87H"
      },
      "execution_count": null,
      "outputs": []
    },
    {
      "cell_type": "code",
      "source": [
        "df_topredict = pd.concat([df_topredict, pd.DataFrame({'CUSTOMER_ID': 1, \n",
        "                                    'AGE': 40, \n",
        "                                    'JOB': 'entrepreneur', \n",
        "                                    'MARITAL': 'married', \n",
        "                                    'EDUCATION': 'secondary',  \n",
        "                                    'DEFAULT': 'no', \n",
        "                                    'BALANCE': 3000,\n",
        "                                    'HOUSING': 'yes',\n",
        "                                    'LOAN': 'no',\n",
        "                                    'CONTACT': 'unknown',\n",
        "                                    'DAY': 10,\n",
        "                                    'MONTH': 'may',\n",
        "                                    'CAMPAIGN': 1,\n",
        "                                    'PDAYS': -1,\n",
        "                                    'PREVIOUS': 0,\n",
        "                                    'POUTCOME': 'unknown'}, index=[0])])\n",
        "df_topredict = pd.concat([df_topredict, pd.DataFrame({'CUSTOMER_ID': 2, \n",
        "                                    'AGE': 65, \n",
        "                                    'JOB': 'management', \n",
        "                                    'MARITAL': 'single', \n",
        "                                    'EDUCATION': 'tertiary',  \n",
        "                                    'DEFAULT': 'no', \n",
        "                                    'BALANCE': 3000,\n",
        "                                    'HOUSING': 'no',\n",
        "                                    'LOAN': 'no',\n",
        "                                    'CONTACT': 'telephone',\n",
        "                                    'DAY': 10,\n",
        "                                    'MONTH': 'mar',\n",
        "                                    'CAMPAIGN': 1,\n",
        "                                    'PDAYS': -1,\n",
        "                                    'PREVIOUS': 12,\n",
        "                                    'POUTCOME': 'success'}, index=[0])])"
      ],
      "metadata": {
        "id": "lFRt3LnEQ-oC"
      },
      "execution_count": null,
      "outputs": []
    },
    {
      "cell_type": "code",
      "source": [
        "df_remote = dataframe.create_dataframe_from_pandas(connection_context = conn, \n",
        "                                                   pandas_df = df_topredict, \n",
        "                                                   table_name = 'BANKMARKETING_TOPREDICT',\n",
        "                                                   force = True,\n",
        "                                                   replace = False)"
      ],
      "metadata": {
        "id": "G1n2tj9IRAag"
      },
      "execution_count": null,
      "outputs": []
    },
    {
      "cell_type": "code",
      "source": [
        "df_remote = conn.table(table = 'BANKMARKETING', schema = 'UNNATI').sort('CUSTOMER_ID', desc = False)\n",
        "df_remote.head(5).collect()"
      ],
      "metadata": {
        "id": "DYHRIn-3RB5x"
      },
      "execution_count": null,
      "outputs": []
    },
    {
      "cell_type": "code",
      "source": [
        "df_remote.count()\n",
        "df_remote.dtypes()\n",
        "df_remote.describe().collect()"
      ],
      "metadata": {
        "id": "yHJUIcn1RDYM"
      },
      "execution_count": null,
      "outputs": []
    },
    {
      "cell_type": "code",
      "source": [
        "top_n = 5 \n",
        "variable_name = 'PURCHASE'\n",
        "\n",
        "# Get Top N categories\n",
        "total_count = df_remote.count()\n",
        "df_remote_col_frequency = df_remote.agg([('count', variable_name, 'COUNT')],  group_by = variable_name)\n",
        "df_col_frequency = df_remote_col_frequency.sort(\"COUNT\", desc = True).head(top_n).collect()\n",
        "df_col_frequency['PERCENT'] = round(df_col_frequency['COUNT'] / total_count, 2)\n",
        "df_col_frequency.style.format({'COUNT':'{0:,.0f}', 'PERCENT':'{0:,.1%}'})"
      ],
      "metadata": {
        "id": "4idaCIUBRJE6"
      },
      "execution_count": null,
      "outputs": []
    },
    {
      "cell_type": "code",
      "source": [
        "%matplotlib inline \n",
        "df_col_frequency.plot.bar(x = 'PURCHASE', y = 'COUNT', title = 'Top ' + str(top_n));"
      ],
      "metadata": {
        "id": "NVBDOAW4RLVy"
      },
      "execution_count": null,
      "outputs": []
    },
    {
      "cell_type": "code",
      "source": [
        "import matplotlib.pyplot as plt\n",
        "from hana_ml.visualizers.eda import EDAVisualizer\n",
        "f = plt.figure()\n",
        "ax1 = f.add_subplot(111) # 111 refers to 1x1 grid, 1st subplot\n",
        "eda = EDAVisualizer(ax1)\n",
        "ax, cont = eda.box_plot(data = df_remote, column = 'BALANCE', groupby = 'PURCHASE', outliers = True)"
      ],
      "metadata": {
        "id": "uW-RO7WVRM2x"
      },
      "execution_count": null,
      "outputs": []
    },
    {
      "cell_type": "code",
      "source": [
        "from hana_ml.algorithms.apl.gradient_boosting_classification import GradientBoostingBinaryClassifier\n",
        "gbapl_model = GradientBoostingBinaryClassifier()\n",
        "col_target = 'PURCHASE'\n",
        "target_value = 'yes'\n",
        "col_id = 'CUSTOMER_ID'"
      ],
      "metadata": {
        "id": "JsaAHK8NROqf"
      },
      "execution_count": null,
      "outputs": []
    },
    {
      "cell_type": "code",
      "source": [
        "from hana_ml.algorithms.apl.gradient_boosting_classification import GradientBoostingBinaryClassifier\n",
        "gbapl_model = GradientBoostingBinaryClassifier()\n",
        "col_target = 'PURCHASE'\n",
        "target_value = 'yes'\n",
        "col_id = 'CUSTOMER_ID'"
      ],
      "metadata": {
        "id": "2awMHZMmRP1q"
      },
      "execution_count": null,
      "outputs": []
    }
  ]
}